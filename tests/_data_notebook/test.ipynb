{
 "cells": [
  {
   "cell_type": "code",
   "execution_count": null,
   "metadata": {},
   "outputs": [],
   "source": [
    "\"\"\"unused import\"\"\"\n",
    "# pylint: disable=undefined-all-variable, import-error, no-absolute-import, too-few-public-methods, missing-docstring\n",
    "import xml.etree  # [unused-import]\n",
    "import xml.sax  # [unused-import]\n",
    "import os.path as test  # [unused-import]\n",
    "from sys import argv as test2  # [unused-import]\n",
    "from sys import flags  # [unused-import]\n",
    "# +1:[unused-import,unused-import]\n",
    "from collections import deque, OrderedDict, Counter\n",
    "# All imports above should be ignored\n",
    "import requests  # [unused-import]\n",
    "\n",
    "# setuptools\n",
    "import zipimport  # command/easy_install.py\n",
    "\n",
    "# twisted\n",
    "from importlib import invalidate_caches  # python/test/test_deprecate.py\n",
    "\n",
    "# astroid\n",
    "import zipimport  # manager.py\n",
    "# IPython\n",
    "from importlib.machinery import all_suffixes  # core/completerlib.py\n",
    "import importlib  # html/notebookapp.py\n",
    "\n",
    "from IPython.utils.importstring import import_item  # Many files\n",
    "\n",
    "# pyflakes\n",
    "# test/test_doctests.py\n",
    "from pyflakes.test.test_imports import Test as TestImports\n",
    "\n",
    "# Nose\n",
    "from nose.importer import Importer, add_path, remove_path  # loader.py\n",
    "\n",
    "import atexit\n",
    "from __future__ import print_function\n",
    "from docopt import docopt\n",
    "import curses, logging, sqlite3\n",
    "import logging\n",
    "import os\n",
    "import sqlite3\n",
    "import time\n",
    "import sys\n",
    "import signal\n",
    "import bs4\n",
    "import nonexistendmodule\n",
    "import boto as b, peewee as p\n",
    "# import django\n",
    "import flask.ext.somext  # # #\n",
    "from sqlalchemy import model"
   ]
  },
  {
   "cell_type": "code",
   "execution_count": null,
   "metadata": {},
   "outputs": [],
   "source": [
    "try:\n",
    "    import ujson as json\n",
    "except ImportError:\n",
    "    import json\n",
    "\n",
    "import models\n",
    "\n",
    "\n",
    "def main():\n",
    "    pass\n",
    "\n",
    "import after_method_is_valid_even_if_not_pep8"
   ]
  }
 ],
 "metadata": {
  "kernelspec": {
   "display_name": "Python 3",
   "language": "python",
   "name": "python3"
  },
  "language_info": {
   "codemirror_mode": {
    "name": "ipython",
    "version": 3
   },
   "file_extension": ".py",
   "mimetype": "text/x-python",
   "name": "python",
   "nbconvert_exporter": "python",
   "pygments_lexer": "ipython3",
   "version": "3.8.1"
  }
 },
 "nbformat": 4,
 "nbformat_minor": 4
}
